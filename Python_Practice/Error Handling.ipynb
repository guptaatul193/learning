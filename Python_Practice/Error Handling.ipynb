{
 "cells": [
  {
   "cell_type": "code",
   "execution_count": 1,
   "id": "e8e29e86",
   "metadata": {},
   "outputs": [],
   "source": [
    "def division(dividend, divisor):\n",
    "    if divisor == 0:\n",
    "        # This is not a CUSTOM ERROR in Python\n",
    "        # But we can ammend additional messages to make the pre-defined error Classes more meaningful for a particular scenario.\n",
    "        raise ZeroDivisionError(\"Divisor Cannot be 0 !\") \n",
    "    print(\"Executing more statement here!!\")\n",
    "    return dividend/divisor\n",
    "\n",
    "# Commenting-out the function call, else GitHub will not execute futher cells in this ipynb file\n",
    "# division(10,0)\n",
    "\n",
    "# If you don't use Exception handling (try.. except) to handle errors, you'll get a high level details on error, but further code stops."
   ]
  },
  {
   "cell_type": "code",
   "execution_count": 2,
   "id": "47d51329",
   "metadata": {},
   "outputs": [
    {
     "name": "stdout",
     "output_type": "stream",
     "text": [
      "Divisor Cannot be 0 !\n",
      "Seems you provided 0 as divisor!\n"
     ]
    }
   ],
   "source": [
    "try:\n",
    "    division(10,0)\n",
    "except ZeroDivisionError as e:\n",
    "    print(e) # get message coming from Error Class (if provided, like in our case)\n",
    "    print(\"Seems you provided 0 as divisor!\")\n",
    "except: # Handling errors not specified above\n",
    "    print(\"invalid values given!\")"
   ]
  },
  {
   "cell_type": "code",
   "execution_count": 3,
   "id": "7b09eb0e",
   "metadata": {},
   "outputs": [
    {
     "name": "stdout",
     "output_type": "stream",
     "text": [
      "Executing more statement here!!\n",
      "unsupported operand type(s) for /: 'int' and 'str'\n",
      "invalid values given!\n"
     ]
    }
   ],
   "source": [
    "try:\n",
    "    division(10,'0')\n",
    "except ZeroDivisionError as e:\n",
    "    print(e)\n",
    "    print(\"Seems you provided 0 as divisor!\")\n",
    "except TypeError as e:\n",
    "    print(e)\n",
    "    print(\"invalid values given!\")"
   ]
  },
  {
   "cell_type": "code",
   "execution_count": 4,
   "id": "2c508bcb",
   "metadata": {},
   "outputs": [
    {
     "name": "stdout",
     "output_type": "stream",
     "text": [
      "Divisor Cannot be 0 !\n",
      "Seems you provided 0 as divisor!\n",
      "All done!\n"
     ]
    }
   ],
   "source": [
    "try:\n",
    "    print(division(10,0))\n",
    "except ZeroDivisionError as e:\n",
    "    print(e)\n",
    "    print(\"Seems you provided 0 as divisor!\")\n",
    "except TypeError as e:\n",
    "    print(e)\n",
    "    print(\"invalid values given!\")\n",
    "else: # if no exceptions caught, this block will execute.\n",
    "    print(\"No errors caught!!\")\n",
    "finally:\n",
    "    print(\"All done!\")"
   ]
  },
  {
   "cell_type": "code",
   "execution_count": 5,
   "id": "ec749fb3",
   "metadata": {},
   "outputs": [
    {
     "name": "stdout",
     "output_type": "stream",
     "text": [
      "cde, the book has 50 pages, you can't read more than that\n"
     ]
    }
   ],
   "source": [
    "# We will not work on creating a Custom Error Class in Python\n",
    "\n",
    "class MorePagesReadError(ValueError): # Custom Error class needs any pre-defined error type class, and it has all the supported methods within\n",
    "    pass # no need to create anything new here, as you will have everything from the imported class already\n",
    "\n",
    "class book:\n",
    "    \n",
    "    def __init__(self,name,pages):\n",
    "        self.name = name\n",
    "        self.pages = pages\n",
    "        self.total_pages = 50\n",
    "        \n",
    "        if pages > self.total_pages:\n",
    "            raise MorePagesReadError(self.name+\", the book has 50 pages, you can't read more than that\")\n",
    "    \n",
    "    def __str__(self):\n",
    "        return f\"{self.name} has read {self.pages} pages out of {self.total_pages} pages\"\n",
    "    \n",
    "try:    \n",
    "    book(\"abc\",30)\n",
    "    book(\"cde\", 51)\n",
    "except MorePagesReadError as e:\n",
    "    print(e)\n",
    "        "
   ]
  }
 ],
 "metadata": {
  "kernelspec": {
   "display_name": "Python 3 (ipykernel)",
   "language": "python",
   "name": "python3"
  },
  "language_info": {
   "codemirror_mode": {
    "name": "ipython",
    "version": 3
   },
   "file_extension": ".py",
   "mimetype": "text/x-python",
   "name": "python",
   "nbconvert_exporter": "python",
   "pygments_lexer": "ipython3",
   "version": "3.9.7"
  }
 },
 "nbformat": 4,
 "nbformat_minor": 5
}
