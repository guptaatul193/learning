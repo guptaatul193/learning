{
 "cells": [
  {
   "cell_type": "markdown",
   "id": "c5ba3955",
   "metadata": {},
   "source": [
    "#                                   First-class functions \n",
    "A function is an instance of the Object type. You can store the function in a variable. You can pass the function as a parameter to another function. You can return the function from a function. You can store them in data structures such as hash tables, lists."
   ]
  },
  {
   "cell_type": "code",
   "execution_count": 1,
   "id": "aba5f7e8",
   "metadata": {},
   "outputs": [
    {
     "name": "stdout",
     "output_type": "stream",
     "text": [
      "Hello\n",
      "There\n",
      "There\n"
     ]
    }
   ],
   "source": [
    "def func1():\n",
    "    msg = 'Hello'\n",
    "\n",
    "    def inner_func():\n",
    "        print(msg)\n",
    "\n",
    "    return inner_func()\n",
    "\n",
    "def func2():\n",
    "    msg = 'There'\n",
    "\n",
    "    def inner_func():\n",
    "        print(msg)\n",
    "\n",
    "    return inner_func\n",
    "\n",
    "func1()\n",
    "var_func2 = func2() # func2() is a first class function, and is stored liek an object in the variable var_func2\n",
    "var_func3 = func2() # func2() is a first class function, and is stored liek an object in the variable var_func3\n",
    "\n",
    "var_func2()\n",
    "var_func3()\n"
   ]
  },
  {
   "cell_type": "markdown",
   "id": "51351cca",
   "metadata": {},
   "source": [
    "##             Lambda, Map, Filter and Reduce functions\n",
    "\n",
    "\t1. Lambda / Anonymous Functions:\n",
    "\t  \tIf a function can work on a single statement, we can create a Lambda\n",
    "\t\tfunction in stead of creating a complete conventional function.\n",
    "\n",
    "\t2. Map Functions\n",
    "\t\tIf we've a list of values, and we want a common action to be perfomred\n",
    "\t\ton ALL the values (using a conventional function or a lambda function),\n",
    "\t\tand obtain equal number of calculated / output values, MAP function comes handy.\n",
    "\n",
    "\t3. Filter Functions:\n",
    "\t\tIf for a given list of values, we've to get values filtered on the basis\n",
    "\t\tof a lamda / conventional function, filter functions can be used.\n",
    "\n",
    "\t4. Reduce Function:\n",
    "\t\tThis has been discontinued to be a part of Python built-in functions from Python 3.x onwards,\n",
    "\t\tand is now currently a part of 'functools' module.\n",
    "\t\tBelow is how this works -\n",
    "\n",
    "\t\tData: [ a1, a2, ... an ]\n",
    "\t\tFunction: f( x, y )\n",
    "\n",
    "\t\treduce( f, data ) :\n",
    "\t\t\tstep 1: val1 = f (a1, a2)\n",
    "\t\t\tstep 2: val2 = f (val1, a3)\n",
    "\t\t\tstep 3: val3 = f (val2, a4)\n",
    "\t\t\t.\n",
    "\t\t\t.\n",
    "\t\t\tstep n-1: val(n-1) = f (val(n-2), an)"
   ]
  },
  {
   "cell_type": "code",
   "execution_count": 3,
   "id": "a7f13d2f",
   "metadata": {},
   "outputs": [
    {
     "name": "stdout",
     "output_type": "stream",
     "text": [
      "4\n",
      "6.0\n",
      "[1, 6, 24, 39916800]\n",
      "[4, 6, 3, 9, 111, 153, 33]\n",
      "['India', 'Germany', 'USA', 1, 1.45, -10, True]\n",
      "11485655674332840\n",
      "153\n"
     ]
    }
   ],
   "source": [
    "# LAMBDA FUNCTION\n",
    "# Below 2 are lambda functions with single and multiple inputs respectively\n",
    "square = lambda num: num**2\n",
    "average = lambda x,y,z: (x+y+z)/3\n",
    "\n",
    "def fibonacci( num ):\n",
    "    out = 1\n",
    "    for i in range(1,num+1):\n",
    "        out *= i\n",
    "    return out\n",
    "\n",
    "\n",
    "print( square(2) ) # one way to call a lambda function\n",
    "print( (lambda x,y,z: (x+y+z)/3) (5,6,7)) # another way to call lambda function\n",
    "\n",
    "\n",
    "# MAP FUNCTION\n",
    "# 'nos' is the list of inputs, we map them to the function 'lambda', which gives us 'map' object which is iterable in nature. We can however convert that into a list explicitly\n",
    "nos = [1,3,4,11]\n",
    "fib_nos = list( map( fibonacci, nos ) ) # PLEASE NOTE THAT although we're passing an iterable (list 'nos' in this case), to map with function 'fibonacci', the function will ACTUALLY receive 1 value at a time\n",
    "print(fib_nos)\n",
    "\n",
    "\n",
    "# FILTER FUNCTION\n",
    "# nos is the list of input values, and using a filter values, we'll get a list of values among, which is divisible by 2 or 3.\n",
    "nos = [4,6,3,9,111,153,33,89,91,55,71]\n",
    "filter_div = list ( filter( lambda x: x%2==0 or x%3==0 , nos ) ) # the result of function must return eith TRUE or FALSE\n",
    "print( filter_div )\n",
    "\n",
    "\n",
    "# FILTER FUNCTION\n",
    "# this is an INTERESTING and IMPORTANT example\n",
    "vals = [ 'India', 'Germany', '', 'USA', {}, [], 0j, 1, 1.45, (), -10, 0.0, None, True, False, 0 ]\n",
    "result = list( filter(None, vals ) ) # if we replace None with any other value like False, [], etc.. the code will fail, execute and see for yourself\n",
    "print( result )\n",
    "# note that all the empty entities, 0s, False have been filtered out.\n",
    "\n",
    "\n",
    "# REDUCE FUNCTION\n",
    "# map and filter take 2nd parameter as iterable, but compute one at a time. Reduce performs action on all, but 2 at a time\n",
    "# in the below example, we'll multiply all the nos. in a list\n",
    "from functools import reduce\n",
    "nos = [4,6,3,9,111,153,33,89,91,55,71]\n",
    "out = reduce( lambda x,y: x*y, nos  ) # PLEASE MIND THAT reduce doesn't return any iterable object, in stead it returns the finally processed value itself.\n",
    "print(out)\n",
    "\n",
    "\n",
    "# another example to find highest of all values, but without using max(). We'll use the same list\n",
    "print( reduce( lambda x,y:x if x>y else y, nos ) )"
   ]
  },
  {
   "cell_type": "markdown",
   "id": "649550bc",
   "metadata": {},
   "source": [
    "### FUNCTION OVERLOADING\n",
    "\n",
    "##### METHOD OVERLOADING\n",
    "* methods or functions must have the same name and different signatures.\n",
    "* inheritance may or may not be required.\n",
    "* there is no need of more than one class\n",
    "\n",
    "##### METHOD OVERRIDING\n",
    "* methods or functions must have the same name and same signatures.\n",
    "* inheritance always required\n",
    "* there is need of at least of two classes\n",
    "\n",
    "#### Refer to -\n",
    "https://www.geeksforgeeks.org/difference-between-method-overloading-and-method-overriding-in-python/"
   ]
  },
  {
   "cell_type": "code",
   "execution_count": 8,
   "id": "dbe5ed7d",
   "metadata": {},
   "outputs": [
    {
     "name": "stdout",
     "output_type": "stream",
     "text": [
      "3\n",
      "6\n"
     ]
    }
   ],
   "source": [
    "# Method Loverloading \n",
    "\n",
    "class Test:\n",
    "\n",
    "    def test(self,*a):\n",
    "        if len(a) == 0:\n",
    "            print(a)\n",
    "        else: print( sum(a) )\n",
    "\n",
    "t = Test()\n",
    "\n",
    "t.test(1,2)\n",
    "t.test(1,2,3)"
   ]
  },
  {
   "cell_type": "code",
   "execution_count": 16,
   "id": "726e4c48",
   "metadata": {},
   "outputs": [
    {
     "name": "stdout",
     "output_type": "stream",
     "text": [
      "Has 4 legs\n",
      "Has 2 legs\n"
     ]
    }
   ],
   "source": [
    "# Method Overriding\n",
    "\n",
    "class Animal:\n",
    "    \n",
    "    def legs(self):\n",
    "        return \"Has 4 legs\"\n",
    "\n",
    "class Dog(Animal):\n",
    "    pass\n",
    "\n",
    "class Kangaroo(Animal):\n",
    "    def legs(self):\n",
    "        return \"Has 2 legs\"\n",
    "\n",
    "tommy = Dog()\n",
    "peter = Kangaroo()\n",
    "\n",
    "print(tommy.legs()) # legs() inherited from Animal class\n",
    "print(peter.legs()) # legs() from Animal class OVERRIDED in Kangaroo class"
   ]
  }
 ],
 "metadata": {
  "kernelspec": {
   "display_name": "Python 3 (ipykernel)",
   "language": "python",
   "name": "python3"
  },
  "language_info": {
   "codemirror_mode": {
    "name": "ipython",
    "version": 3
   },
   "file_extension": ".py",
   "mimetype": "text/x-python",
   "name": "python",
   "nbconvert_exporter": "python",
   "pygments_lexer": "ipython3",
   "version": "3.9.7"
  }
 },
 "nbformat": 4,
 "nbformat_minor": 5
}
