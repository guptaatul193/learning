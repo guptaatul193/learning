{
 "cells": [
  {
   "cell_type": "markdown",
   "id": "734b6e6e",
   "metadata": {},
   "source": [
    "#### pass any number of values, all will be stored (PACKED) in a list"
   ]
  },
  {
   "cell_type": "code",
   "execution_count": 1,
   "id": "c744e66a",
   "metadata": {},
   "outputs": [
    {
     "name": "stdout",
     "output_type": "stream",
     "text": [
      "[1, 2, 3, 4]\n"
     ]
    }
   ],
   "source": [
    "*var, = 1,2,3,4\n",
    "print(var)"
   ]
  },
  {
   "cell_type": "code",
   "execution_count": 2,
   "id": "1043ab17",
   "metadata": {},
   "outputs": [
    {
     "name": "stdout",
     "output_type": "stream",
     "text": [
      "1 2 3 4\n",
      "1 2 [3, 4]\n"
     ]
    }
   ],
   "source": [
    "# Either you should be knowing the exact number of values in a collectible, or\n",
    "a,b,c,d = var\n",
    "print(a,b,c,d)\n",
    "\n",
    "# The initial variables will collect individual elements in sequence, and the remainings will be collected in a packing variable\n",
    "a,b,*c = var\n",
    "print(a,b,c)"
   ]
  },
  {
   "cell_type": "markdown",
   "id": "b7efb0b6",
   "metadata": {},
   "source": [
    "#### We have a packing variable, hence we need not to worry on the number of arguments passed, UNTIL WE SPECIFY KEYWORD ARGUMENTS"
   ]
  },
  {
   "cell_type": "code",
   "execution_count": 3,
   "id": "3f950a36",
   "metadata": {},
   "outputs": [
    {
     "name": "stdout",
     "output_type": "stream",
     "text": [
      "6\n",
      "10\n",
      "15\n"
     ]
    }
   ],
   "source": [
    "def myfunc(*args):\n",
    "    print(sum(args))\n",
    "\n",
    "# These would work\n",
    "myfunc(1,2,3)\n",
    "myfunc(1,2,3,4)\n",
    "myfunc(1,2,3,4,5)\n",
    "\n",
    "# This would not, uncomment and check for yourself\n",
    "# myfunc(a=10, b=20)\n",
    "\n",
    "\n"
   ]
  },
  {
   "cell_type": "code",
   "execution_count": 4,
   "id": "57e35c62",
   "metadata": {},
   "outputs": [
    {
     "name": "stdout",
     "output_type": "stream",
     "text": [
      "Hello, Atul! The sum is 10\n"
     ]
    }
   ],
   "source": [
    "# args DOES NOT help with params/values WITH keywords. Keyword stuff needs to be handles separately\n",
    "def myfunc2(*args, name):\n",
    "    print(f\"Hello, {name}! The sum is {sum(args)}\")\n",
    "    \n",
    "myfunc2(1,2,3,4,name='Atul')"
   ]
  },
  {
   "cell_type": "code",
   "execution_count": 5,
   "id": "33cc794f",
   "metadata": {},
   "outputs": [
    {
     "name": "stdout",
     "output_type": "stream",
     "text": [
      "13\n",
      "40\n"
     ]
    }
   ],
   "source": [
    "# unpacking \n",
    "\n",
    "def myfunc3(a,b,c):\n",
    "    print(a+b+c)\n",
    "    \n",
    "i1 = (2,5,6)  # unpacking with list/tuples\n",
    "i2 = {'a':10,'b':10, 'c':20}  # unpacking with dictionary\n",
    "\n",
    "myfunc3(*i1) \n",
    "myfunc3(**i2)"
   ]
  },
  {
   "cell_type": "code",
   "execution_count": 6,
   "id": "e96550fe",
   "metadata": {},
   "outputs": [
    {
     "name": "stdout",
     "output_type": "stream",
     "text": [
      "{'a': 10, 'b': 20}\n"
     ]
    }
   ],
   "source": [
    "def myfunc4(**kwargs):\n",
    "    print(kwargs)\n",
    "    \n",
    "myfunc4(a=10, b=20)"
   ]
  },
  {
   "cell_type": "code",
   "execution_count": 7,
   "id": "3c72bef3",
   "metadata": {},
   "outputs": [
    {
     "name": "stdout",
     "output_type": "stream",
     "text": [
      "(1, 2, 3)\n",
      "{'a': 10, 'b': 20}\n"
     ]
    }
   ],
   "source": [
    "# initial values are collected in args, and keyword params are collected in kwargs, but make sure you respect the sequences.\n",
    "def myfunc5(*args, **kwargs):\n",
    "    print(args)\n",
    "    print(kwargs)\n",
    "    \n",
    "myfunc5(1,2,3,a=10,b=20)"
   ]
  }
 ],
 "metadata": {
  "kernelspec": {
   "display_name": "Python 3 (ipykernel)",
   "language": "python",
   "name": "python3"
  },
  "language_info": {
   "codemirror_mode": {
    "name": "ipython",
    "version": 3
   },
   "file_extension": ".py",
   "mimetype": "text/x-python",
   "name": "python",
   "nbconvert_exporter": "python",
   "pygments_lexer": "ipython3",
   "version": "3.9.7"
  }
 },
 "nbformat": 4,
 "nbformat_minor": 5
}
