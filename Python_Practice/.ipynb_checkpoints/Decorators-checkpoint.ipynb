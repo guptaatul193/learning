{
 "cells": [
  {
   "cell_type": "markdown",
   "id": "6534d771",
   "metadata": {},
   "source": [
    "### Decorators is a functionality in Python, which enhances a standalone function or a class method, without changing the code within.\n",
    "### In a nutshell, on top of simply executing any function/method, we can achieve something extra. For example, introducing decorator before function calls for logging, or authentication."
   ]
  },
  {
   "cell_type": "markdown",
   "id": "fe0811fa",
   "metadata": {},
   "source": [
    "The below code currently gives percentage, if provided marks out of 100. What if we need to know the Pass/Fail status if criteria to pass is 40% ?"
   ]
  },
  {
   "cell_type": "code",
   "execution_count": 1,
   "id": "68a7df01",
   "metadata": {},
   "outputs": [
    {
     "name": "stdout",
     "output_type": "stream",
     "text": [
      "24.0\n",
      "getPercentage\n"
     ]
    }
   ],
   "source": [
    "def getPercentage(m):\n",
    "    return(m/5)\n",
    "\n",
    "marks = 120\n",
    "print( getPercentage(marks) )\n",
    "print( getPercentage.__name__ ) # '__name__' gives the function name."
   ]
  },
  {
   "cell_type": "markdown",
   "id": "dc1f1451",
   "metadata": {},
   "source": [
    "#### Decorating our good old function, to get pass/fail status."
   ]
  },
  {
   "cell_type": "code",
   "execution_count": 2,
   "id": "c8d95156",
   "metadata": {},
   "outputs": [
    {
     "name": "stdout",
     "output_type": "stream",
     "text": [
      "Fail\n",
      "24.0\n",
      "myWrapper\n"
     ]
    }
   ],
   "source": [
    "def myDecorator(func): # decorator func takes in 'getPercentage' function as argument\n",
    "    \n",
    "    # WRAPPER func. This does our job.\n",
    "    def myWrapper(x,y): # Arguments signature for Wrapper func must be same as 'getPercentage' \n",
    "        \n",
    "        print(\"Pass\" if (x*100)/y >= 40 else \"Fail\")\n",
    "        \n",
    "        return func(x,y)\n",
    "    \n",
    "    return myWrapper # 'myWrapper' func is returned as a result of the decorator call\n",
    "            \n",
    "\n",
    "\"\"\" Decorator returns func 'myWrapper'. All the statements in 'myWrapper' executes along with getPercentage func-call,\n",
    "which was passed as parameter to the decorator.\"\"\"\n",
    "\n",
    "@myDecorator \n",
    "def getPercentage(m,mm):\n",
    "    return( (m*100) / mm )\n",
    "\n",
    "marks = 120\n",
    "Max_marks = 500\n",
    "print( getPercentage(marks, Max_marks) )\n",
    "\n",
    "# '__name__' gives the wrapper function name in the decorator function.\n",
    "print( getPercentage.__name__ ) "
   ]
  },
  {
   "cell_type": "markdown",
   "id": "efb3cddb",
   "metadata": {},
   "source": [
    "##### In the above scenario, we never changed the actual funcionality of getPercentage. We made Python perform a few more actions as in myWrapper function, and then execute our good old function getPercentage.\n",
    "##### '@myDecorator' FORCED python to execute myWrapper in place of  getPercentage. But as we had getPercentage func passed via 'myDecorator' agrument inside, we called it.\n",
    "\n",
    "##### If  we don't want the decorated function name to be changed, we can use '@wraps' decorator from 'functools'  module."
   ]
  },
  {
   "cell_type": "code",
   "execution_count": 41,
   "id": "3e247f6b",
   "metadata": {},
   "outputs": [
    {
     "name": "stdout",
     "output_type": "stream",
     "text": [
      "Fail\n",
      "24.0\n",
      "None\n",
      "getPercentage\n"
     ]
    }
   ],
   "source": [
    "from functools import wraps\n",
    "\n",
    "def myDecorator(func): \n",
    "    \n",
    "    # 'wraps' takes in the getPercentage func as input parameter.\n",
    "    @wraps(func) \n",
    "    def myWrapper(x,y):\n",
    "        \n",
    "        print(\"Pass\" if (x*100)/y >= 40 else \"Fail\")\n",
    "        \n",
    "        print( func(x,y) )\n",
    "           \n",
    "    return myWrapper\n",
    "            \n",
    "\n",
    "@myDecorator \n",
    "def getPercentage(m,mm):\n",
    "    return( (m*100) / mm )\n",
    "\n",
    "marks = 120\n",
    "Max_marks = 500\n",
    "print( getPercentage(marks, Max_marks) )\n",
    "\n",
    "# '__name__' gives the function name itself now, inspite of using decorators.\n",
    "print( getPercentage.__name__ )"
   ]
  },
  {
   "cell_type": "markdown",
   "id": "5235a7d3",
   "metadata": {},
   "source": [
    "##### Unlike above codes, we can pass arguments to the decorator functions too."
   ]
  },
  {
   "cell_type": "code",
   "execution_count": 9,
   "id": "1d3478c0",
   "metadata": {},
   "outputs": [
    {
     "name": "stdout",
     "output_type": "stream",
     "text": [
      "This is interior decorator within myDecorator. Yaay!\n",
      "Inside wrapper with Arguments --> 'Something' and 'Passed'\n",
      "Hello there!! Welcome to myFunc function!!\n",
      "wrapper\n"
     ]
    }
   ],
   "source": [
    "def myDecorator(x,y): # this now takes in the arguments passed to decorator, and not the function to be decorated.\n",
    "    \n",
    "    # we need another layer of function within the decorator function, to welcome the original function to be decorated.\n",
    "    def interiorDecorator(func):\n",
    "        \n",
    "        print(\"This is interior decorator within myDecorator. Yaay!\")\n",
    "        \n",
    "        def wrapper(arg):\n",
    "            print(f\"Inside wrapper with Arguments --> '{x}' and '{y}'\")\n",
    "            return func(arg)\n",
    "        return wrapper\n",
    "    \n",
    "    return interiorDecorator\n",
    "        \n",
    "    \n",
    "\n",
    "@myDecorator(\"Something\",\"Passed\")\n",
    "def myFunc(x):\n",
    "    return f\"{x} Welcome to myFunc function!!\"\n",
    "       \n",
    "print(myFunc(\"Hello there!!\"))\n",
    "print(myFunc.__name__)\n",
    "\n"
   ]
  },
  {
   "cell_type": "markdown",
   "id": "ef379664",
   "metadata": {},
   "source": [
    "##### A function originally tells whether a number is odd or even. Now, we docrate the function such that it also gives a square if number is odd, and cube if number is even."
   ]
  },
  {
   "cell_type": "code",
   "execution_count": 15,
   "id": "5da4e3ea",
   "metadata": {},
   "outputs": [
    {
     "name": "stdout",
     "output_type": "stream",
     "text": [
      "The number 39 is Odd and its cube is 59319\n"
     ]
    }
   ],
   "source": [
    "def raisePower(func):\n",
    "    \n",
    "    def wrapper(n):\n",
    "        if n%2 == 0:\n",
    "            return f\"The number {n} is Even and its square is {n**2}\"\n",
    "        return f\"The number {n} is Odd and its cube is {n**3}\"\n",
    "       \n",
    "    return wrapper\n",
    "\n",
    "@raisePower\n",
    "def oddOrEven(num):\n",
    "    return \"Even\" if num%2 == 0 else \"Odd\"\n",
    "\n",
    "print( oddOrEven(39) )"
   ]
  },
  {
   "cell_type": "markdown",
   "id": "91302c22",
   "metadata": {},
   "source": [
    "### Just like functions, we can decorate Classes too!\n",
    "\n",
    "##### We can introduce new attributes and methods, or modify the existing ones."
   ]
  },
  {
   "cell_type": "code",
   "execution_count": 6,
   "id": "e4eb1bab",
   "metadata": {},
   "outputs": [
    {
     "name": "stdout",
     "output_type": "stream",
     "text": [
      "Constructor Decorated!\n",
      "SHOW() Decorated!\n",
      "value given = Jack\n",
      "No Value\n",
      "Hello, I'm a new method\n"
     ]
    }
   ],
   "source": [
    "def myDecorator(class1):\n",
    "\n",
    "    def decorator_init(self,a):\n",
    "        print(\"Constructor Decorated!\")\n",
    "        self.a = a\n",
    "\n",
    "    def decorator_show(self):\n",
    "        print(\"SHOW() Decorated!\")\n",
    "        return f\"value given = {self.a}\"\n",
    "    \n",
    "    def newMethod(self):\n",
    "        return \"Hello, I'm a new method\"\n",
    "\n",
    "    \n",
    "    # In the below statements, you'll realize that unlike function decorations, we're ACTUALLY REPLACING the class members, and passing back the class itself.\n",
    "    \n",
    "    class1.__init__ = decorator_init\n",
    "    class1.show = decorator_show\n",
    "    class1.class_mumber = \"Value Provided\"\n",
    "    class1.newMethod = newMethod\n",
    "    \n",
    "    # Just like funcs in function decorations, we return class.    \n",
    "    return class1 \n",
    "    \n",
    "        \n",
    "    \n",
    "@myDecorator\n",
    "class Student:\n",
    "    \n",
    "    class_member = \"No Value\"\n",
    "    \n",
    "    def __init__(self,a):\n",
    "        self.a = a\n",
    "        \n",
    "    def show(self):\n",
    "        return self.a\n",
    "        \n",
    "stud1 = Student(\"Jack\")\n",
    "\n",
    "print(stud1.show())\n",
    "print(stud1.class_member)\n",
    "print(stud1.newMethod())"
   ]
  },
  {
   "cell_type": "code",
   "execution_count": 10,
   "id": "9e4474b8",
   "metadata": {},
   "outputs": [
    {
     "name": "stdout",
     "output_type": "stream",
     "text": [
      "Decorator Implemented!! I'll decorate the class!\n",
      "Constructor Decorated!\n",
      "SHOW() Decorated!\n",
      "value given = Jack\n",
      "decorator_show\n",
      "decorator_init\n"
     ]
    }
   ],
   "source": [
    "def myDecorator(dec_arg):\n",
    "    \n",
    "    print(dec_arg+ \" I'll decorate the class!\")\n",
    "    \n",
    "    def interiorDecorator(class1):\n",
    "        \n",
    "        def decorator_init(self,a):\n",
    "            print(\"Constructor Decorated!\")\n",
    "            self.a = a\n",
    "        \n",
    "        def decorator_show(self):\n",
    "            print(\"SHOW() Decorated!\")\n",
    "            return f\"value given = {self.a}\"\n",
    "        \n",
    "        class1.__init__ = decorator_init\n",
    "        class1.show = decorator_show\n",
    "        \n",
    "        return class1\n",
    "    return interiorDecorator\n",
    "        \n",
    "        \n",
    "        \n",
    "            \n",
    "    \n",
    "@myDecorator(\"Decorator Implemented!!\")\n",
    "class Student:\n",
    "    def __init__(self,a):\n",
    "        self.a = a\n",
    "        \n",
    "    def show(self):\n",
    "        return self.a\n",
    "        \n",
    "stud1 = Student(\"Jack\")\n",
    "\n",
    "print(stud1.show())\n",
    "print(stud1.show.__name__)\n",
    "print(stud1.__init__.__name__)\n"
   ]
  },
  {
   "cell_type": "markdown",
   "id": "4b16ce56",
   "metadata": {},
   "source": [
    "### Instead of using functions as decorators, we can also DECORATE USING CLASSES"
   ]
  },
  {
   "cell_type": "code",
   "execution_count": 42,
   "id": "edd25dd6",
   "metadata": {},
   "outputs": [
    {
     "name": "stdout",
     "output_type": "stream",
     "text": [
      "hello, geeks_for_geeks\n"
     ]
    }
   ],
   "source": [
    "class MyDecorator: # using a class to decorate a function\n",
    "    \n",
    "    def __init__(self, function): # function needs to be passed as an argument in the class constructor.\n",
    "        self.function = function\n",
    "     \n",
    "    def __call__(self, *args, **kwargs): # any arguments we pass to the original function, needs to be passed to '__call__'.\n",
    " \n",
    "        # We can add some code\n",
    "        # before function call\n",
    " \n",
    "        self.function(*args, **kwargs)\n",
    " \n",
    "        # We can also add some code\n",
    "        # after function call.\n",
    "        \n",
    "        # PLEASE NOTE THAT return statement was not needed in this case, as the actual function call is replaced by __call__.\n",
    "     \n",
    " \n",
    "# adding class decorator to the function\n",
    "@MyDecorator\n",
    "def function(name, message ='Hello'):\n",
    "    print(\"{}, {}\".format(message, name))\n",
    " \n",
    "function(\"geeks_for_geeks\", \"hello\")"
   ]
  },
  {
   "cell_type": "markdown",
   "id": "79d0c349",
   "metadata": {},
   "source": [
    "#### How to pass arguments to decorator class?"
   ]
  },
  {
   "cell_type": "code",
   "execution_count": 43,
   "id": "9e027271",
   "metadata": {},
   "outputs": [
    {
     "name": "stdout",
     "output_type": "stream",
     "text": [
      "hello, geeks_for_geeks\n"
     ]
    }
   ],
   "source": [
    "class MyDecorator: \n",
    "\n",
    "    def __init__(self,arg): # constructor now accepts decorator argument and not the function to be decorated.\n",
    "        self.arg = arg\n",
    "\n",
    "    def __call__(self, func): \n",
    "        \n",
    "        # We can add some code\n",
    "        # before function call\n",
    "        \n",
    "        def wrapper(*args, **kwargs):\n",
    "            func(*args, **kwargs)\n",
    "\n",
    "        # We can also add some code\n",
    "        # after function call.\n",
    "        return wrapper\n",
    "    \n",
    "        # __call__ now works for wrapper and not the actual function itself, hence RETURN STATEMENT IS NEEDED HERE.\n",
    " \n",
    "# adding class decorator to the function\n",
    "@MyDecorator('123')\n",
    "def function(name, message ='Hello'):\n",
    "    print(\"{}, {}\".format(message, name))\n",
    " \n",
    "function(\"geeks_for_geeks\", \"hello\")"
   ]
  }
 ],
 "metadata": {
  "kernelspec": {
   "display_name": "Python 3 (ipykernel)",
   "language": "python",
   "name": "python3"
  },
  "language_info": {
   "codemirror_mode": {
    "name": "ipython",
    "version": 3
   },
   "file_extension": ".py",
   "mimetype": "text/x-python",
   "name": "python",
   "nbconvert_exporter": "python",
   "pygments_lexer": "ipython3",
   "version": "3.9.7"
  }
 },
 "nbformat": 4,
 "nbformat_minor": 5
}
