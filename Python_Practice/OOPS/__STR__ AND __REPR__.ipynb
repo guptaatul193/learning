{
 "cells": [
  {
   "cell_type": "code",
   "execution_count": 1,
   "id": "5ba49f0b",
   "metadata": {},
   "outputs": [
    {
     "name": "stdout",
     "output_type": "stream",
     "text": [
      "------object created for demo----------  \n",
      "value = bunny\n",
      "class_name = demo\n",
      "\n",
      "value = bunny\n",
      "class_name = demo\n",
      "\n",
      "value = bunny\n",
      "class_name = demo\n",
      "\n"
     ]
    }
   ],
   "source": [
    "# below code uses constructor, string representation, and destructor\n",
    "# __str__ and __repr__ are ALMOST the same, except that __REPR__ is usually employed for PYTHON DEBUGGER.\n",
    "\n",
    "class demo:\n",
    "    #var = None\n",
    "    def __init__(self, val):\n",
    "        print('------object created for demo-----%s-----  ' %'')\n",
    "        self.var = val\n",
    "    def __str__(self):\n",
    "        out = ['value = '+self.var]\n",
    "        out.append( 'class_name = '+self.__class__.__name__ )\n",
    "        return ('\\n').join(out)+'\\n'\n",
    "    def __repr__(self):\n",
    "        out = ['value via repr = '+self.var]\n",
    "        out.append( 'class_name via repr = '+self.__class__.__name__ )\n",
    "        return ('\\n').join(out)+'\\n'\n",
    "    def __del__(self):\n",
    "        print('-----object destroyed for demo-------')\n",
    "\n",
    "p1 = demo('bunny')\n",
    "\n",
    "# different ways to get string representation values\n",
    "print( demo.__str__(p1) )\n",
    "print( p1 )\n",
    "print (p1.__str__())"
   ]
  },
  {
   "cell_type": "code",
   "execution_count": 2,
   "id": "4ebc6b5d",
   "metadata": {},
   "outputs": [
    {
     "name": "stdout",
     "output_type": "stream",
     "text": [
      "------object created for demo1----------  \n",
      "-----object destroyed for demo-------\n",
      "value via repr = bunny\n",
      "class_name via repr = demo1\n",
      "\n",
      "value via repr = bunny\n",
      "class_name via repr = demo1\n",
      "\n",
      "value via repr = bunny\n",
      "class_name via repr = demo1\n",
      "\n"
     ]
    }
   ],
   "source": [
    "# __REPR__ can be used as __STR__, if __STR__ is not present.\n",
    "\n",
    "class demo1:\n",
    "    #var = None\n",
    "    def __init__(self, val):\n",
    "        print('------object created for demo1-----%s-----  ' %'')\n",
    "        self.var = val\n",
    "#     def __str__(self):\n",
    "#         out = ['value = '+self.var]\n",
    "#         out.append( 'class_name = '+self.__class__.__name__ )\n",
    "#         return ('\\n').join(out)+'\\n'\n",
    "    def __repr__(self):\n",
    "        out = ['value via repr = '+self.var]\n",
    "        out.append( 'class_name via repr = '+self.__class__.__name__ )\n",
    "        return ('\\n').join(out)+'\\n'\n",
    "    def __del__(self):\n",
    "        print('-----object destroyed for demo1-------')\n",
    "\n",
    "p1 = demo1('bunny')\n",
    "\n",
    "# different ways to get string representation values\n",
    "print( demo1.__str__(p1) )\n",
    "print( p1 )\n",
    "print (p1.__str__())"
   ]
  }
 ],
 "metadata": {
  "kernelspec": {
   "display_name": "Python 3 (ipykernel)",
   "language": "python",
   "name": "python3"
  },
  "language_info": {
   "codemirror_mode": {
    "name": "ipython",
    "version": 3
   },
   "file_extension": ".py",
   "mimetype": "text/x-python",
   "name": "python",
   "nbconvert_exporter": "python",
   "pygments_lexer": "ipython3",
   "version": "3.9.7"
  }
 },
 "nbformat": 4,
 "nbformat_minor": 5
}
