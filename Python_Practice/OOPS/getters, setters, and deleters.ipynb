{
 "cells": [
  {
   "cell_type": "markdown",
   "id": "15f55408",
   "metadata": {},
   "source": [
    "## Getters, Setters and Deleters - Python Decorators\n",
    "#### Please note that these are not the only way to achieve ENCAPSULATION in python. These help in treating a class method just like any class attribute. Encapsulation may also be achieved by using a double underscore '__' as an attribute name prefix, where the value can be changed using the same class methods only.\n",
    "\n",
    "### What is ENCAPSULATION?\n",
    "##### Encapsulation is achieved when each object keeps its state private, inside a class. Other objects don’t have direct access to this state. Instead, they can only call a list of public functions — called methods. So, the object manages its own state via methods — and no other class can touch it unless explicitly allowed. If you want to communicate with the object, you should use the methods provided. But (by default), you can’t change the state."
   ]
  },
  {
   "cell_type": "code",
   "execution_count": 16,
   "id": "0846e1cb",
   "metadata": {},
   "outputs": [
    {
     "name": "stdout",
     "output_type": "stream",
     "text": [
      "Jack Sparrow\n",
      "Heera Lal\n",
      "No Name Available!\n"
     ]
    }
   ],
   "source": [
    "class Student:\n",
    "    def __init__(self, fname=None, lname=None):\n",
    "        self.__fname = fname\n",
    "        self.__lname = lname\n",
    "        \n",
    "    @property\n",
    "    def fullname(self):\n",
    "        if self.__fname is None or self.__lname is None:\n",
    "            return \"No Name Available!\"\n",
    "        return f\"{self.__fname} {self.__lname}\"\n",
    "    \n",
    "    @fullname.setter\n",
    "    def fullname(self, full_name):\n",
    "        self.__fname, self.__lname = full_name.split()\n",
    "        \n",
    "    @fullname.deleter\n",
    "    def fullname(self):\n",
    "        self.__fname = None\n",
    "        self.__lname = None\n",
    "    \n",
    "obj = Student(\"Jack\",\"Sparrow\")\n",
    "print(obj.fullname)\n",
    "obj.fullname = \"Heera Lal\"\n",
    "print(obj.fullname)\n",
    "del obj.fullname\n",
    "print(obj.fullname)"
   ]
  },
  {
   "cell_type": "markdown",
   "id": "e46691fa",
   "metadata": {},
   "source": [
    "### One will SIMPLY not be able to access the protected attributes __fname and __lname of the class Student, the  ways we can access them either by using a class method (regular or setter), or '_Student__fname'\n",
    "\n",
    "### Example of encalpulation without using @ decorators."
   ]
  },
  {
   "cell_type": "code",
   "execution_count": 17,
   "id": "2001532c",
   "metadata": {},
   "outputs": [
    {
     "name": "stdout",
     "output_type": "stream",
     "text": [
      "Selling Price: 900\n",
      "Selling Price: 900\n",
      "Selling Price: 1200\n"
     ]
    }
   ],
   "source": [
    "class Computer:\n",
    "\n",
    "    def __init__(self):\n",
    "        self.__maxprice = 900\n",
    "\n",
    "    def sell(self):\n",
    "        print(\"Selling Price: {}\".format(self.__maxprice))\n",
    "\n",
    "    def setMaxPrice(self, price):\n",
    "        self.__maxprice = price\n",
    "\n",
    "c = Computer()\n",
    "c.sell()\n",
    "\n",
    "# change the price\n",
    "c.__maxprice = 1000\n",
    "c.sell()\n",
    "\n",
    "# using setter function\n",
    "c.setMaxPrice(1200)\n",
    "c.sell()"
   ]
  }
 ],
 "metadata": {
  "kernelspec": {
   "display_name": "Python 3 (ipykernel)",
   "language": "python",
   "name": "python3"
  },
  "language_info": {
   "codemirror_mode": {
    "name": "ipython",
    "version": 3
   },
   "file_extension": ".py",
   "mimetype": "text/x-python",
   "name": "python",
   "nbconvert_exporter": "python",
   "pygments_lexer": "ipython3",
   "version": "3.9.7"
  }
 },
 "nbformat": 4,
 "nbformat_minor": 5
}
